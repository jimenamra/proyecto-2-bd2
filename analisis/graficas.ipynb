{
 "cells": [
  {
   "cell_type": "markdown",
   "id": "eb15ed44",
   "metadata": {},
   "source": [
    "# Análisis de Tiempos de respuesta\n",
    "\n",
    "Análisis Por tamaño de datos"
   ]
  },
  {
   "cell_type": "code",
   "execution_count": null,
   "id": "0f48d826",
   "metadata": {
    "vscode": {
     "languageId": "plaintext"
    }
   },
   "outputs": [],
   "source": []
  }
 ],
 "metadata": {
  "language_info": {
   "name": "python"
  }
 },
 "nbformat": 4,
 "nbformat_minor": 5
}
